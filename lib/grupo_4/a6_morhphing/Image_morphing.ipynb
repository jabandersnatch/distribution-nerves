{
 "cells": [
  {
   "cell_type": "code",
   "execution_count": 1,
   "id": "63712ac1",
   "metadata": {},
   "outputs": [],
   "source": [
    "srcP = list()\n",
    "srcP.append([200,72])\n",
    "srcP.append([94,142])\n",
    "srcP.append([84,142])\n",
    "srcP.append([306,363])\n",
    "srcP.append([100,145])\n",
    "srcP.append([237,190])\n",
    "srcP.append([131,170])\n",
    "srcP.append([304,307])\n",
    "srcP.append([161,137])\n",
    "srcP.append([204,275])\n",
    "srcP.append([207,180])\n",
    "#Q\n",
    "srcQ = list()\n",
    "srcQ.append([94,142])\n",
    "srcQ.append([84,142])\n",
    "srcQ.append([306,363])\n",
    "srcQ.append([189,258])\n",
    "srcQ.append([207,208])\n",
    "srcQ.append([205,207])\n",
    "srcQ.append([304,307])\n",
    "srcQ.append([207,151])\n",
    "srcQ.append([204,275])\n",
    "srcQ.append([207,180])\n",
    "srcQ.append([272,205])\n",
    "\n",
    "#dest\n",
    "#P\n",
    "destP = list()\n",
    "destP.append([243,55])\n",
    "destP.append([91,158])\n",
    "destP.append([65,147])\n",
    "destP.append([290,393])\n",
    "destP.append([90,140])\n",
    "destP.append([250,205])\n",
    "destP.append([112,172])\n",
    "destP.append([300,327])\n",
    "destP.append([161,137])\n",
    "destP.append([204,275])\n",
    "destP.append([207,180])\n",
    "#Q\n",
    "destQ = list()\n",
    "destQ.append([91,158])\n",
    "destQ.append([65,147])\n",
    "destQ.append([290,393])\n",
    "destQ.append([200,272])\n",
    "destQ.append([208,215])\n",
    "destQ.append([208,212])\n",
    "destQ.append([300,327])\n",
    "destQ.append([225,172])\n",
    "destQ.append([204,275])\n",
    "destQ.append([207,180])\n",
    "destQ.append([272,205])"
   ]
  },
  {
   "cell_type": "code",
   "execution_count": 2,
   "id": "b770e6c0",
   "metadata": {},
   "outputs": [
    {
     "name": "stdout",
     "output_type": "stream",
     "text": [
      "Image 1 was saved\n",
      "Image 2 was saved\n",
      "Image 3 was saved\n",
      "Image 4 was saved\n",
      "Image 5 was saved\n",
      "Image 6 was saved\n",
      "Image 7 was saved\n",
      "Image 8 was saved\n",
      "Image 9 was saved\n",
      "Image 10 was saved\n"
     ]
    }
   ],
   "source": [
    "from PIL import Image\n",
    "import numpy as np\n",
    "import imageio\n",
    "import random\n",
    "from morph_utils import generateRegularGridPoints, morph_frame, perpendicular\n",
    "\n",
    "im1 = Image.open(\"Facep1.jpg\")\n",
    "im2 = Image.open(\"Facep2.jpg\")\n",
    "height = 480\n",
    "width = 340\n",
    "imSize = [width, height]\n",
    "\n",
    "numMorphedFrames = 10\n",
    "\n",
    "# Constants for line weight equation\n",
    "a = 0.2\n",
    "b = 1.25\n",
    "m = 0.1\n",
    "\n",
    "# Uncomment for using the custom function\n",
    "#srcP = generateRegularGridPoints(im1.size, 5, 20)\n",
    "#srcQ = generateRegularGridPoints(im2.size, 5, 20)\n",
    "\n",
    "for i in range(numMorphedFrames):\n",
    "    morph_frame(im1, im2, i, np.array(srcP), np.array(srcQ), np.array(destP), np.array(destQ), a, b, m, height, width, numMorphedFrames)"
   ]
  },
  {
   "cell_type": "markdown",
   "id": "db00eb7d",
   "metadata": {},
   "source": [
    "### References\n",
    "\n",
    "Based on the code by Anton Mendvedev, found at https://github.com/antonmdv/Morphing/blob/master/morphing.py"
   ]
  },
  {
   "cell_type": "code",
   "execution_count": null,
   "id": "f6118e21",
   "metadata": {},
   "outputs": [],
   "source": []
  }
 ],
 "metadata": {
  "kernelspec": {
   "display_name": "Python 3 (ipykernel)",
   "language": "python",
   "name": "python3"
  },
  "language_info": {
   "codemirror_mode": {
    "name": "ipython",
    "version": 3
   },
   "file_extension": ".py",
   "mimetype": "text/x-python",
   "name": "python",
   "nbconvert_exporter": "python",
   "pygments_lexer": "ipython3",
   "version": "3.10.9"
  }
 },
 "nbformat": 4,
 "nbformat_minor": 5
}
